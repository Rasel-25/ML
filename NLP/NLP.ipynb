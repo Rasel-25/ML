{
 "cells": [
  {
   "cell_type": "code",
   "execution_count": 1,
   "metadata": {},
   "outputs": [],
   "source": [
    "from nltk.tokenize import sent_tokenize, word_tokenize"
   ]
  },
  {
   "cell_type": "code",
   "execution_count": 10,
   "metadata": {},
   "outputs": [],
   "source": [
    "import pandas as pd"
   ]
  },
  {
   "cell_type": "code",
   "execution_count": 2,
   "metadata": {},
   "outputs": [
    {
     "data": {
      "text/plain": [
       "'you can do this. don’t tell people your plans. show them your results. no pressure, no diamonds. try again. fail again. fail better.'"
      ]
     },
     "execution_count": 2,
     "metadata": {},
     "output_type": "execute_result"
    }
   ],
   "source": [
    "para = \"You can do this. Don’t tell people your plans. Show them your results. No pressure, no diamonds. Try Again. Fail again. Fail better.\"\n",
    "para.lower()"
   ]
  },
  {
   "cell_type": "code",
   "execution_count": 3,
   "metadata": {},
   "outputs": [
    {
     "data": {
      "text/plain": [
       "['You can do this.',\n",
       " 'Don’t tell people your plans.',\n",
       " 'Show them your results.',\n",
       " 'No pressure, no diamonds.',\n",
       " 'Try Again.',\n",
       " 'Fail again.',\n",
       " 'Fail better.']"
      ]
     },
     "execution_count": 3,
     "metadata": {},
     "output_type": "execute_result"
    }
   ],
   "source": [
    "sent_tokenize(para)"
   ]
  },
  {
   "cell_type": "code",
   "execution_count": 4,
   "metadata": {},
   "outputs": [
    {
     "data": {
      "text/plain": [
       "['You',\n",
       " 'can',\n",
       " 'do',\n",
       " 'this',\n",
       " '.',\n",
       " 'Don',\n",
       " '’',\n",
       " 't',\n",
       " 'tell',\n",
       " 'people',\n",
       " 'your',\n",
       " 'plans',\n",
       " '.',\n",
       " 'Show',\n",
       " 'them',\n",
       " 'your',\n",
       " 'results',\n",
       " '.',\n",
       " 'No',\n",
       " 'pressure',\n",
       " ',',\n",
       " 'no',\n",
       " 'diamonds',\n",
       " '.',\n",
       " 'Try',\n",
       " 'Again',\n",
       " '.',\n",
       " 'Fail',\n",
       " 'again',\n",
       " '.',\n",
       " 'Fail',\n",
       " 'better',\n",
       " '.']"
      ]
     },
     "execution_count": 4,
     "metadata": {},
     "output_type": "execute_result"
    }
   ],
   "source": [
    "word_tokenize(para)"
   ]
  },
  {
   "cell_type": "code",
   "execution_count": 5,
   "metadata": {},
   "outputs": [],
   "source": [
    "tokens=word_tokenize(para)"
   ]
  },
  {
   "cell_type": "code",
   "execution_count": 6,
   "metadata": {},
   "outputs": [
    {
     "name": "stderr",
     "output_type": "stream",
     "text": [
      "[nltk_data] Downloading package stopwords to C:\\Users\\Laptop\n",
      "[nltk_data]     Point\\AppData\\Roaming\\nltk_data...\n",
      "[nltk_data]   Package stopwords is already up-to-date!\n"
     ]
    },
    {
     "data": {
      "text/plain": [
       "True"
      ]
     },
     "execution_count": 6,
     "metadata": {},
     "output_type": "execute_result"
    }
   ],
   "source": [
    "import nltk\n",
    "nltk.download('stopwords') # download stopword specifically from nltk"
   ]
  },
  {
   "cell_type": "code",
   "execution_count": 7,
   "metadata": {},
   "outputs": [],
   "source": [
    "from nltk.corpus import stopwords"
   ]
  },
  {
   "cell_type": "code",
   "execution_count": 8,
   "metadata": {},
   "outputs": [],
   "source": [
    "stop_words=set(stopwords.words('english'))"
   ]
  },
  {
   "cell_type": "code",
   "execution_count": 9,
   "metadata": {},
   "outputs": [
    {
     "data": {
      "text/plain": [
       "['.',\n",
       " '’',\n",
       " 'tell',\n",
       " 'people',\n",
       " 'plans',\n",
       " '.',\n",
       " 'Show',\n",
       " 'results',\n",
       " '.',\n",
       " 'pressure',\n",
       " ',',\n",
       " 'diamonds',\n",
       " '.',\n",
       " 'Try',\n",
       " '.',\n",
       " 'Fail',\n",
       " '.',\n",
       " 'Fail',\n",
       " 'better',\n",
       " '.']"
      ]
     },
     "execution_count": 9,
     "metadata": {},
     "output_type": "execute_result"
    }
   ],
   "source": [
    "# removed common word\n",
    "filtered_tokens=[word for word in tokens  if word.casefold() not in stop_words]\n",
    "filtered_tokens"
   ]
  },
  {
   "cell_type": "code",
   "execution_count": 10,
   "metadata": {},
   "outputs": [
    {
     "data": {
      "text/plain": [
       "['’',\n",
       " 'tell',\n",
       " 'people',\n",
       " 'plans',\n",
       " 'Show',\n",
       " 'results',\n",
       " 'pressure',\n",
       " ',',\n",
       " 'diamonds',\n",
       " 'Try',\n",
       " 'Fail',\n",
       " 'Fail',\n",
       " 'better']"
      ]
     },
     "execution_count": 10,
     "metadata": {},
     "output_type": "execute_result"
    }
   ],
   "source": [
    "# removed fullstop\n",
    "filtered_tokens=[word for word in filtered_tokens  if word !='.' ]\n",
    "filtered_tokens"
   ]
  },
  {
   "cell_type": "code",
   "execution_count": 11,
   "metadata": {},
   "outputs": [
    {
     "data": {
      "text/plain": [
       "['tell',\n",
       " 'people',\n",
       " 'plans',\n",
       " 'Show',\n",
       " 'results',\n",
       " 'pressure',\n",
       " ',',\n",
       " 'diamonds',\n",
       " 'Try',\n",
       " 'Fail',\n",
       " 'Fail',\n",
       " 'better']"
      ]
     },
     "execution_count": 11,
     "metadata": {},
     "output_type": "execute_result"
    }
   ],
   "source": [
    "# removed coma\n",
    "filtered_tokens=[word for word in filtered_tokens  if word not in '.’']\n",
    "filtered_tokens"
   ]
  },
  {
   "cell_type": "code",
   "execution_count": 12,
   "metadata": {},
   "outputs": [],
   "source": [
    "from nltk.stem import PorterStemmer\n",
    "stemmer=PorterStemmer()"
   ]
  },
  {
   "cell_type": "code",
   "execution_count": 13,
   "metadata": {},
   "outputs": [
    {
     "data": {
      "text/plain": [
       "['tell',\n",
       " 'peopl',\n",
       " 'plan',\n",
       " 'show',\n",
       " 'result',\n",
       " 'pressur',\n",
       " ',',\n",
       " 'diamond',\n",
       " 'tri',\n",
       " 'fail',\n",
       " 'fail',\n",
       " 'better']"
      ]
     },
     "execution_count": 13,
     "metadata": {},
     "output_type": "execute_result"
    }
   ],
   "source": [
    "# Stemming the text\n",
    "stemmed_token=[stemmer.stem(word) for word in filtered_tokens]\n",
    "stemmed_token"
   ]
  },
  {
   "cell_type": "code",
   "execution_count": 14,
   "metadata": {},
   "outputs": [
    {
     "name": "stderr",
     "output_type": "stream",
     "text": [
      "[nltk_data] Downloading package wordnet to C:\\Users\\Laptop\n",
      "[nltk_data]     Point\\AppData\\Roaming\\nltk_data...\n",
      "[nltk_data]   Package wordnet is already up-to-date!\n",
      "[nltk_data] Downloading package omw-1.4 to C:\\Users\\Laptop\n",
      "[nltk_data]     Point\\AppData\\Roaming\\nltk_data...\n",
      "[nltk_data]   Package omw-1.4 is already up-to-date!\n"
     ]
    },
    {
     "data": {
      "text/plain": [
       "True"
      ]
     },
     "execution_count": 14,
     "metadata": {},
     "output_type": "execute_result"
    }
   ],
   "source": [
    "from nltk.stem import WordNetLemmatizer\n",
    "lemmatizer=WordNetLemmatizer()\n",
    "nltk.download('wordnet')\n",
    "nltk.download('omw-1.4')"
   ]
  },
  {
   "cell_type": "code",
   "execution_count": 15,
   "metadata": {},
   "outputs": [
    {
     "data": {
      "text/plain": [
       "['tell',\n",
       " 'people',\n",
       " 'plan',\n",
       " 'Show',\n",
       " 'result',\n",
       " 'pressure',\n",
       " ',',\n",
       " 'diamond',\n",
       " 'Try',\n",
       " 'Fail',\n",
       " 'Fail',\n",
       " 'better']"
      ]
     },
     "execution_count": 15,
     "metadata": {},
     "output_type": "execute_result"
    }
   ],
   "source": [
    "# lemmatizing the text\n",
    "lemmatizer_token=[lemmatizer.lemmatize(word) for word in filtered_tokens]\n",
    "lemmatizer_token"
   ]
  }
 ],
 "metadata": {
  "kernelspec": {
   "display_name": "Python 3.10.1 64-bit",
   "language": "python",
   "name": "python3"
  },
  "language_info": {
   "codemirror_mode": {
    "name": "ipython",
    "version": 3
   },
   "file_extension": ".py",
   "mimetype": "text/x-python",
   "name": "python",
   "nbconvert_exporter": "python",
   "pygments_lexer": "ipython3",
   "version": "3.10.1"
  },
  "orig_nbformat": 4,
  "vscode": {
   "interpreter": {
    "hash": "369f2c481f4da34e4445cda3fffd2e751bd1c4d706f27375911949ba6bb62e1c"
   }
  }
 },
 "nbformat": 4,
 "nbformat_minor": 2
}
