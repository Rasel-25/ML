{
 "cells": [
  {
   "cell_type": "markdown",
   "metadata": {},
   "source": [
    "# 8 steps of Machine Learning\n",
    "1. Data gathering\n",
    "2. data preprocessing\n",
    "3. Exploratory Data Analysis (EDA)\n",
    "4. Feature engineering/selection\n",
    "5. Training model\n",
    "6. Test model/Model evaluation\n",
    "7. Hyper Parameter tuning\n",
    "8. Prediction"
   ]
  },
  {
   "cell_type": "code",
   "execution_count": null,
   "metadata": {},
   "outputs": [],
   "source": [
    "import numpy as np\n",
    "import pandas as pd\n",
    "import matplotlib.pyplot as plt\n",
    "import seaborn as sns\n",
    "%matplotlib inline"
   ]
  },
  {
   "cell_type": "markdown",
   "metadata": {},
   "source": [
    "# 1. Data gathering"
   ]
  },
  {
   "cell_type": "code",
   "execution_count": null,
   "metadata": {},
   "outputs": [],
   "source": [
    "data=pd.read_csv('FuelConsumption.csv')\n",
    "data.head()"
   ]
  },
  {
   "cell_type": "markdown",
   "metadata": {},
   "source": [
    "Check the basic info and missing values"
   ]
  },
  {
   "cell_type": "code",
   "execution_count": null,
   "metadata": {},
   "outputs": [],
   "source": [
    "data.shape"
   ]
  },
  {
   "cell_type": "code",
   "execution_count": null,
   "metadata": {},
   "outputs": [],
   "source": [
    "data.info()"
   ]
  },
  {
   "cell_type": "code",
   "execution_count": null,
   "metadata": {},
   "outputs": [],
   "source": [
    "data.isnull().sum()"
   ]
  },
  {
   "cell_type": "code",
   "execution_count": null,
   "metadata": {},
   "outputs": [],
   "source": [
    "# Return DataFrame with duplicate rows removed.\n",
    "data.drop_duplicates(inplace=True)"
   ]
  },
  {
   "cell_type": "code",
   "execution_count": null,
   "metadata": {},
   "outputs": [],
   "source": [
    "# count categorical unique value from make column\n",
    "data['MAKE'].value_counts()\n",
    "data.MAKE.value_counts()"
   ]
  },
  {
   "cell_type": "code",
   "execution_count": null,
   "metadata": {},
   "outputs": [],
   "source": [
    "# count categorical unique value from MODEL column\n",
    "data['MODEL'].value_counts()"
   ]
  },
  {
   "cell_type": "code",
   "execution_count": null,
   "metadata": {},
   "outputs": [],
   "source": [
    "# count categorical unique value from VEHICLECLASS column\n",
    "data['VEHICLECLASS'].value_counts()"
   ]
  },
  {
   "cell_type": "code",
   "execution_count": null,
   "metadata": {},
   "outputs": [],
   "source": [
    "# count categorical unique value from TRANSMISSION  column\n",
    "data['TRANSMISSION'].value_counts()"
   ]
  },
  {
   "cell_type": "code",
   "execution_count": null,
   "metadata": {},
   "outputs": [],
   "source": [
    "data['FUELTYPE'].unique() # getting the name of unique value"
   ]
  },
  {
   "cell_type": "code",
   "execution_count": null,
   "metadata": {},
   "outputs": [],
   "source": [
    "# count categorical unique value from FUELTYPE  column\n",
    "data['FUELTYPE'].value_counts()"
   ]
  },
  {
   "cell_type": "code",
   "execution_count": null,
   "metadata": {},
   "outputs": [],
   "source": [
    "data['MODELYEAR'].value_counts()"
   ]
  },
  {
   "cell_type": "code",
   "execution_count": null,
   "metadata": {},
   "outputs": [],
   "source": [
    "# drop MODELYEAR COLUMN\n",
    "data.drop(columns=['MODELYEAR'], inplace=True)"
   ]
  },
  {
   "cell_type": "markdown",
   "metadata": {},
   "source": [
    "Statistical Analysis"
   ]
  },
  {
   "cell_type": "code",
   "execution_count": null,
   "metadata": {},
   "outputs": [],
   "source": [
    "data.describe().T"
   ]
  },
  {
   "cell_type": "markdown",
   "metadata": {},
   "source": [
    "# 2. Data preprocessing"
   ]
  },
  {
   "cell_type": "code",
   "execution_count": null,
   "metadata": {},
   "outputs": [],
   "source": [
    "from sklearn.preprocessing import LabelEncoder\n",
    "encoder=LabelEncoder()"
   ]
  },
  {
   "cell_type": "code",
   "execution_count": null,
   "metadata": {},
   "outputs": [],
   "source": [
    "# each column transform categorical to numerical value and  update to dataframe\n",
    "for col in ['MAKE','MODEL','VEHICLECLASS','TRANSMISSION','FUELTYPE']:\n",
    "    data[col]=encoder.fit_transform(data[col]) "
   ]
  },
  {
   "cell_type": "code",
   "execution_count": null,
   "metadata": {},
   "outputs": [],
   "source": [
    "data"
   ]
  },
  {
   "cell_type": "markdown",
   "metadata": {},
   "source": [
    "# 3. EDA"
   ]
  },
  {
   "cell_type": "code",
   "execution_count": null,
   "metadata": {},
   "outputs": [],
   "source": [
    "sns.set(style='white')\n",
    "plt.figure(figsize=(10,8))\n",
    "plt.scatter(x=data['ENGINESIZE'],y=data['CO2EMISSIONS'])\n",
    "plt.title('ENGINSIZE VS C02EMISSIONS')\n",
    "plt.show()"
   ]
  },
  {
   "cell_type": "code",
   "execution_count": null,
   "metadata": {},
   "outputs": [],
   "source": [
    "plt.figure(figsize=(10,10))\n",
    "sns.scatterplot(x='ENGINESIZE', y='CO2EMISSIONS', data=data)\n",
    "plt.title('ENGINESIZE VE CO2EMISSIONS')\n",
    "plt.show()"
   ]
  },
  {
   "cell_type": "code",
   "execution_count": null,
   "metadata": {},
   "outputs": [],
   "source": [
    "sns.distplot(data.ENGINESIZE,kde=False)\n",
    "data['ENGINESIZE'].plot(kind='hist') # hist/bar\n",
    "data.ENGINESIZE.plot(kind='hist') # by this plot we can know the distribution of data over x axis"
   ]
  },
  {
   "cell_type": "code",
   "execution_count": null,
   "metadata": {},
   "outputs": [],
   "source": []
  },
  {
   "cell_type": "code",
   "execution_count": null,
   "metadata": {},
   "outputs": [],
   "source": [
    "plt.figure(figsize=(10,10))\n",
    "sns.pairplot(data=data)"
   ]
  },
  {
   "cell_type": "code",
   "execution_count": null,
   "metadata": {},
   "outputs": [],
   "source": [
    "sns.boxenplot(data=data, x='ENGINESIZE', )"
   ]
  },
  {
   "cell_type": "markdown",
   "metadata": {},
   "source": [
    "# 4. Feature Engineering/Selection"
   ]
  },
  {
   "cell_type": "markdown",
   "metadata": {},
   "source": [
    "Finding important features"
   ]
  },
  {
   "cell_type": "code",
   "execution_count": null,
   "metadata": {},
   "outputs": [],
   "source": [
    "correlation=data.corr()\n",
    "correlation"
   ]
  },
  {
   "cell_type": "code",
   "execution_count": null,
   "metadata": {},
   "outputs": [],
   "source": [
    "plt.figure(figsize=(10,10))\n",
    "sns.heatmap(correlation, annot=True,cmap='Greens')"
   ]
  },
  {
   "cell_type": "code",
   "execution_count": null,
   "metadata": {},
   "outputs": [],
   "source": [
    "# Droping unnecessary ffeatures/column\n",
    "data.drop(columns=['MAKE', 'MODEL', 'VEHICLECLASS', 'TRANSMISSION',\n",
    "          'FUELTYPE', 'FUELCONSUMPTION_COMB_MPG'], inplace=True)"
   ]
  },
  {
   "cell_type": "code",
   "execution_count": null,
   "metadata": {},
   "outputs": [],
   "source": [
    "plt.figure(figsize=(10,10))\n",
    "sns.heatmap(correlation, annot=True,cmap='Greens')"
   ]
  },
  {
   "cell_type": "code",
   "execution_count": null,
   "metadata": {},
   "outputs": [],
   "source": [
    "data"
   ]
  },
  {
   "cell_type": "markdown",
   "metadata": {},
   "source": [
    "# Detect Quartile and remove"
   ]
  },
  {
   "cell_type": "code",
   "execution_count": null,
   "metadata": {},
   "outputs": [],
   "source": [
    "Q1=np.percentile(data.ENGINESIZE, 25, method='midpoint')\n",
    "Q1"
   ]
  },
  {
   "cell_type": "code",
   "execution_count": null,
   "metadata": {},
   "outputs": [],
   "source": [
    "Q3=np.percentile(data.ENGINESIZE, 75, method='midpoint')\n",
    "Q3"
   ]
  },
  {
   "cell_type": "code",
   "execution_count": null,
   "metadata": {},
   "outputs": [],
   "source": [
    "iQR=Q3-Q1\n",
    "iQR"
   ]
  },
  {
   "cell_type": "code",
   "execution_count": null,
   "metadata": {},
   "outputs": [],
   "source": [
    "Q3+1.5*iQR"
   ]
  },
  {
   "cell_type": "code",
   "execution_count": null,
   "metadata": {},
   "outputs": [],
   "source": [
    "Q1-1.5*iQR"
   ]
  },
  {
   "cell_type": "code",
   "execution_count": null,
   "metadata": {},
   "outputs": [],
   "source": [
    "Outliers_index_upper=np.where(data['ENGINESIZE']>Q3+1.5*iQR)\n",
    "Outliers_index_upper[0]"
   ]
  },
  {
   "cell_type": "code",
   "execution_count": null,
   "metadata": {},
   "outputs": [],
   "source": [
    "Outliers_index_lower=np.where(data['ENGINESIZE']<Q1-1.5*iQR)\n",
    "Outliers_index_lower[0]"
   ]
  },
  {
   "cell_type": "code",
   "execution_count": null,
   "metadata": {},
   "outputs": [],
   "source": [
    "# Droping Outliers_index\n",
    "data.drop(Outliers_index_upper[0], inplace=True)"
   ]
  },
  {
   "cell_type": "code",
   "execution_count": null,
   "metadata": {},
   "outputs": [],
   "source": [
    "data"
   ]
  },
  {
   "cell_type": "code",
   "execution_count": null,
   "metadata": {},
   "outputs": [],
   "source": [
    "sns.boxenplot(data['ENGINESIZE'])"
   ]
  },
  {
   "cell_type": "markdown",
   "metadata": {},
   "source": [
    "# 5. Training model"
   ]
  },
  {
   "cell_type": "markdown",
   "metadata": {},
   "source": [
    "Train & test split"
   ]
  },
  {
   "cell_type": "code",
   "execution_count": null,
   "metadata": {},
   "outputs": [],
   "source": [
    "from sklearn.model_selection import train_test_split"
   ]
  },
  {
   "cell_type": "markdown",
   "metadata": {},
   "source": [
    "When ues a single feature for modeling then we called simple linear Regression,\n",
    "on the other hand when use one features for modeling then called multipul linear Regression"
   ]
  },
  {
   "cell_type": "code",
   "execution_count": null,
   "metadata": {},
   "outputs": [],
   "source": [
    "# simple linear rgression\n",
    "train_features, test_features, train_target, test_target = train_test_split(\n",
    "    data[['ENGINESIZE']], data[['CO2EMISSIONS']], test_size=0.2,random_state=2)\n"
   ]
  },
  {
   "cell_type": "code",
   "execution_count": null,
   "metadata": {},
   "outputs": [],
   "source": [
    "train_features.shape"
   ]
  },
  {
   "cell_type": "code",
   "execution_count": null,
   "metadata": {},
   "outputs": [],
   "source": [
    "test_features.shape"
   ]
  },
  {
   "cell_type": "code",
   "execution_count": null,
   "metadata": {},
   "outputs": [],
   "source": [
    "test_features\n",
    "test_target.shape"
   ]
  },
  {
   "cell_type": "markdown",
   "metadata": {},
   "source": [
    "# Step-6: Modeling \n",
    "\n",
    "KNN"
   ]
  },
  {
   "cell_type": "markdown",
   "metadata": {},
   "source": [
    "Parameters\n",
    "\n",
    "    n_neighbors : int, default=5\n",
    "Number of neighbors to use by default for kneighbors queries.\n",
    "\n",
    "    weights : {'uniform', 'distance'} or callable, default='uniform'\n",
    "Weight function used in prediction. Possible values:\n",
    "\n",
    "'uniform' : uniform weights. All points in each neighborhood are weighted equally and same priority.\n",
    "'distance' : weight points by the inverse of their distance. in this case, closer neighbors of a query point will have a greater influence than neighbors which are further away.\n",
    "[callable] : a user-defined function which accepts an array of distances, and returns an array of the same shape containing the weights.\n",
    "\n",
    "\n",
    "    algorithm : {'auto', 'ball_tree', 'kd_tree', 'brute'}, default='auto'\n",
    "Algorithm used to compute the nearest neighbors:\n",
    "\n",
    "'ball_tree' will use BallTree\n",
    "'kd_tree' will use KDTree\n",
    "'brute' will use a brute-force search.\n",
    "'auto' will attempt to decide the most appropriate algorithm based on the values passed to fit method.\n",
    "    Note: fitting on sparse input will override the setting of this parameter, using brute force.\n",
    "\n",
    "    leaf_size : int, default=30\n",
    "Leaf size passed to BallTree or KDTree. This can affect the speed of the construction and query, as well as the memory required to store the tree. The optimal value depends on the nature of the problem.\n",
    "\n",
    "    p : int, default=2\n",
    "Power parameter for the Minkowski metric. When p = 1, this is equivalent to using manhattan_distance (l1), and euclidean_distance (l2) for p = 2. For arbitrary p, minkowski_distance (l_p) is used.\n",
    "\n",
    "    metric : str or callable, default='minkowski'\n",
    "The distance metric to use for the tree. The default metric is minkowski, and with p=2 is equivalent to the standard Euclidean metric. \n",
    "\n",
    "See the documentation of DistanceMetric for a list of available metrics. If metric is \"precomputed\", X is assumed to be a distance matrix and must be square during fit. X may be a sparse graph, in which case only \"nonzero\" elements may be considered neighbors.\n",
    "\n",
    "\n"
   ]
  },
  {
   "cell_type": "code",
   "execution_count": null,
   "metadata": {},
   "outputs": [],
   "source": [
    "from sklearn import neighbors\n",
    "model=neighbors.KNeighborsRegressor()"
   ]
  },
  {
   "cell_type": "code",
   "execution_count": null,
   "metadata": {},
   "outputs": [],
   "source": [
    "# training our model\n",
    "model.fit(train_features,train_target)"
   ]
  },
  {
   "cell_type": "code",
   "execution_count": null,
   "metadata": {},
   "outputs": [],
   "source": [
    "model.predict(test_features)"
   ]
  },
  {
   "cell_type": "markdown",
   "metadata": {},
   "source": [
    "# 6. Model testing and Evaluation"
   ]
  },
  {
   "cell_type": "code",
   "execution_count": null,
   "metadata": {},
   "outputs": [],
   "source": [
    "from sklearn.metrics import mean_squared_error, r2_score #sklearn.metrics contain all error evaluation module "
   ]
  },
  {
   "cell_type": "code",
   "execution_count": null,
   "metadata": {},
   "outputs": [],
   "source": [
    "# mannuly Error calculations\n",
    "y_hat=model.predict(test_features) # prediction\n"
   ]
  },
  {
   "cell_type": "code",
   "execution_count": null,
   "metadata": {},
   "outputs": [],
   "source": [
    "# error calculation\n",
    "mean_squared_error(test_target,y_hat) # similar with previous one"
   ]
  },
  {
   "cell_type": "code",
   "execution_count": null,
   "metadata": {},
   "outputs": [],
   "source": [
    "# test accuricy\n",
    "r2_score(test_target, y_hat) # or\n",
    "\n",
    "r2_score(test_target, y_hat)*100"
   ]
  },
  {
   "cell_type": "code",
   "execution_count": null,
   "metadata": {},
   "outputs": [],
   "source": [
    "# Checking error and accurecy for single features\n",
    "for features in data.columns[:-1]:\n",
    "    print('__________')\n",
    "    train_features, test_features, train_target, test_target = train_test_split(\n",
    "    data[[features]], data[['CO2EMISSIONS']], test_size=0.2,random_state=42)\n",
    "\n",
    "    model=neighbors.KNeighborsRegressor()\n",
    "    model.fit(train_features,train_target.values.ravel())\n",
    "    y_hat=model.predict(test_features)\n",
    "    print(f'ERROR OF {features}: ',mean_squared_error(test_target,y_hat))\n",
    "    print(f'ACCURICY OF {features}: ',r2_score(test_target, y_hat)*100)"
   ]
  },
  {
   "cell_type": "markdown",
   "metadata": {},
   "source": [
    "Multiple Linear Regression"
   ]
  },
  {
   "cell_type": "code",
   "execution_count": null,
   "metadata": {},
   "outputs": [],
   "source": [
    "from itertools import combinations # module of combinations"
   ]
  },
  {
   "cell_type": "code",
   "execution_count": null,
   "metadata": {},
   "outputs": [],
   "source": [
    "# Checking error and accurecy for combine features\n",
    "feature_combinations = list(combinations(['ENGINESIZE', 'CYLINDERS','FUELCONSUMPTION_CITY',\n",
    "                            'FUELCONSUMPTION_HWY', 'FUELCONSUMPTION_COMB'], 3))  # 2 refers  numbers of combination\n",
    "for features in feature_combinations:\n",
    "    print('---------------')\n",
    "    train_features, test_features, train_target, test_target = train_test_split(\n",
    "        data[list(features)], data[['CO2EMISSIONS']], test_size=0.2,random_state=2)\n",
    "    model=neighbors.KNeighborsRegressor(n_neighbors=7)\n",
    "    model.fit(train_features,train_target)\n",
    "    y_hat=model.predict(test_features)\n",
    "    print(f'ERROR OF {features}: ',mean_squared_error(test_target,y_hat))\n",
    "    print(f'ACCURICY OF {features}: ',r2_score(test_target, y_hat)*100)"
   ]
  },
  {
   "cell_type": "markdown",
   "metadata": {},
   "source": [
    "# 7. Hyper Parameter tuning"
   ]
  },
  {
   "cell_type": "markdown",
   "metadata": {},
   "source": [
    "Cross validation "
   ]
  },
  {
   "cell_type": "markdown",
   "metadata": {},
   "source": [
    " k-fold Cross-Validation is a statistical method used to estimate the skill of machine learning models."
   ]
  },
  {
   "cell_type": "code",
   "execution_count": null,
   "metadata": {},
   "outputs": [],
   "source": [
    "features=data.drop(columns=['CO2EMISSIONS','FUELCONSUMPTION_CITY',\n",
    "       'FUELCONSUMPTION_HWY'])\n",
    "features"
   ]
  },
  {
   "cell_type": "code",
   "execution_count": null,
   "metadata": {},
   "outputs": [],
   "source": [
    "target=data[['CO2EMISSIONS']]\n",
    "target"
   ]
  },
  {
   "cell_type": "code",
   "execution_count": null,
   "metadata": {},
   "outputs": [],
   "source": [
    "from sklearn.model_selection import KFold # module of k-fold Cross-Validation"
   ]
  },
  {
   "cell_type": "code",
   "execution_count": null,
   "metadata": {},
   "outputs": [],
   "source": [
    "KFold? # return detail about dataset"
   ]
  },
  {
   "cell_type": "code",
   "execution_count": null,
   "metadata": {},
   "outputs": [],
   "source": [
    "# this give us indexes of training and testing dataset and using these indexes we can find out values from original dataset\n",
    "folds = KFold(n_splits=10) # define the number of splits\n",
    "tuple(folds.split(features,target)) # split training and testing set\n"
   ]
  },
  {
   "cell_type": "code",
   "execution_count": null,
   "metadata": {},
   "outputs": [],
   "source": [
    "# Checking error and accurecy all splits using k-fold Cross-Validation\n",
    "scores=[]\n",
    "for train_index,test_index in tuple(folds.split(features,target)):\n",
    "    #fetch data\n",
    "    xtrain=features.values[train_index]\n",
    "    ytrain=target.values[train_index]\n",
    "    xtest=features.values[test_index]\n",
    "    ytest=target.values[test_index]\n",
    "\n",
    "    # Model\n",
    "    Model=neighbors.KNeighborsRegressor()\n",
    "    Model.fit(xtrain,ytrain)\n",
    "    # Testing\n",
    "    y_hat= Model.predict(xtest)\n",
    "    print(f'Mean Squared Error: ',mean_squared_error(ytest,y_hat))\n",
    "    print(f'R Square Error:',r2_score(ytest, y_hat)*100)\n",
    "    scores.append(r2_score(ytest, y_hat)*100)\n"
   ]
  },
  {
   "cell_type": "code",
   "execution_count": null,
   "metadata": {},
   "outputs": [],
   "source": [
    "scores # return all  splits accurecy"
   ]
  },
  {
   "cell_type": "code",
   "execution_count": null,
   "metadata": {},
   "outputs": [],
   "source": [
    "scores=np.array(scores) # Checking average accurecy\n",
    "scores.mean()"
   ]
  },
  {
   "cell_type": "code",
   "execution_count": null,
   "metadata": {},
   "outputs": [],
   "source": [
    "# Another away of cross validation\n",
    "from sklearn.model_selection import cross_val_score\n",
    "Mode1_1=neighbors.KNeighborsRegressor()\n",
    "cross_value=cross_val_score(Mode1_1,features,target, cv=10) # cv=10 means number of split \n",
    "cross_value*100"
   ]
  },
  {
   "cell_type": "code",
   "execution_count": null,
   "metadata": {},
   "outputs": [],
   "source": [
    "cross_value.mean()*100 # Checking average accurecy"
   ]
  },
  {
   "cell_type": "code",
   "execution_count": null,
   "metadata": {},
   "outputs": [],
   "source": [
    "# Checking mean_squared_error\n",
    "from sklearn.model_selection import cross_val_score\n",
    "Mode1_1=neighbors.KNeighborsRegressor()\n",
    "cross_value_MSE=cross_val_score(Mode1_1,features,target, cv=10, scoring='neg_mean_squared_error') # cv=10 means number of split \n",
    "cross_value_MSE"
   ]
  },
  {
   "cell_type": "code",
   "execution_count": null,
   "metadata": {},
   "outputs": [],
   "source": [
    "cross_value_MSE.mean()"
   ]
  },
  {
   "cell_type": "markdown",
   "metadata": {},
   "source": [
    "# Patameter Tuning"
   ]
  },
  {
   "cell_type": "code",
   "execution_count": null,
   "metadata": {},
   "outputs": [],
   "source": [
    "neighbors.KNeighborsRegressor?   # Getting parameter name"
   ]
  },
  {
   "cell_type": "code",
   "execution_count": null,
   "metadata": {},
   "outputs": [],
   "source": [
    "neighbors.KNeighborsRegressor().get_params()"
   ]
  },
  {
   "cell_type": "code",
   "execution_count": null,
   "metadata": {},
   "outputs": [],
   "source": [
    "from sklearn.model_selection import GridSearchCV\n",
    "grid=GridSearchCV(\n",
    "    model,\n",
    "    param_grid={\n",
    "        'n_neighbors': [5,7,9,11,15,17,19,21,23],\n",
    "        'weights': ['uniform','distance'],\n",
    "        'algorithm': ['auto','ball_tree', 'kd_tree', 'brute'],\n",
    "        'metric': ['minkowski','euclidean','manhattan','hamming']\n",
    "    },cv=5, scoring='neg_mean_squared_error'\n",
    ")\n",
    "grid.fit(train_features,train_target) # fit the model\n"
   ]
  },
  {
   "cell_type": "code",
   "execution_count": null,
   "metadata": {},
   "outputs": [],
   "source": [
    "grid.best_params_ #return combination of best parameter"
   ]
  },
  {
   "cell_type": "code",
   "execution_count": null,
   "metadata": {},
   "outputs": [],
   "source": [
    "grid.best_score_ # return best  scare of te model"
   ]
  },
  {
   "cell_type": "code",
   "execution_count": null,
   "metadata": {},
   "outputs": [],
   "source": [
    "grid.best_estimator_ # return best estimator of parameter"
   ]
  },
  {
   "cell_type": "markdown",
   "metadata": {},
   "source": [
    "# 8. Model Visualization"
   ]
  },
  {
   "cell_type": "markdown",
   "metadata": {},
   "source": [
    "Visualize simple Linear Regression"
   ]
  },
  {
   "cell_type": "code",
   "execution_count": null,
   "metadata": {},
   "outputs": [],
   "source": [
    "Model_2=grid.best_estimator_\n",
    "Model_2.fit(features[['ENGINESIZE']], target)"
   ]
  },
  {
   "cell_type": "code",
   "execution_count": null,
   "metadata": {},
   "outputs": [],
   "source": [
    "features.describe().T"
   ]
  },
  {
   "cell_type": "code",
   "execution_count": null,
   "metadata": {},
   "outputs": [],
   "source": [
    "dummy_feature=np.linspace(1,7,200).reshape(-1,1) # reshape(-1,1) converting 1D to 2D array\n",
    "dummy_feature\n",
    "ypred=Model_2.predict(dummy_feature) \n",
    "ypred"
   ]
  },
  {
   "cell_type": "code",
   "execution_count": null,
   "metadata": {},
   "outputs": [],
   "source": [
    "dummy_feature.reshape(-1,1)"
   ]
  },
  {
   "cell_type": "code",
   "execution_count": null,
   "metadata": {},
   "outputs": [],
   "source": [
    "ypred.ravel()# ravel() converting 2D to 1D array"
   ]
  },
  {
   "cell_type": "code",
   "execution_count": null,
   "metadata": {},
   "outputs": [],
   "source": [
    "plt.figure(figsize=(10,8))\n",
    "plt.scatter(features[['ENGINESIZE']],target, label='Actual Data',color='darkorange')\n",
    "plt.plot(dummy_feature.ravel(), ypred.ravel(), label='Regression line',color='green',linewidth=4)\n",
    "plt.xlabel('ENGINESIZE')\n",
    "plt.ylabel('CO2EMISSIONS')\n",
    "plt.title('ENGINESIZE VS CO2EMISSIONS')\n",
    "plt.legend()\n",
    "plt.show()\n"
   ]
  },
  {
   "cell_type": "markdown",
   "metadata": {},
   "source": [
    "Visualize Multiple Linear Regression"
   ]
  },
  {
   "cell_type": "code",
   "execution_count": null,
   "metadata": {},
   "outputs": [],
   "source": [
    "Model_3=neighbors.KNeighborsRegressor()\n",
    "Model_3.fit(features[['ENGINESIZE','FUELCONSUMPTION_COMB']], target)"
   ]
  },
  {
   "cell_type": "code",
   "execution_count": null,
   "metadata": {},
   "outputs": [],
   "source": [
    "dummy_ENGINESIZE=np.linspace(1,5,200)\n",
    "dummy_FUELCONSUMPTION_COMB=np.linspace(4.8,25.8,200)\n",
    "dummy_features=np.c_[dummy_ENGINESIZE,dummy_FUELCONSUMPTION_COMB] # c_ means concatination\n",
    "dummy_features"
   ]
  },
  {
   "cell_type": "code",
   "execution_count": null,
   "metadata": {},
   "outputs": [],
   "source": [
    "ypred=Model_3.predict(dummy_features)\n",
    "ypred"
   ]
  },
  {
   "cell_type": "code",
   "execution_count": 298,
   "metadata": {},
   "outputs": [
    {
     "data": {
      "image/png": "[encoded data removed]",
      "text/plain": [
       "<Figure size 720x576 with 1 Axes>"
      ]
     },
     "metadata": {},
     "output_type": "display_data"
    }
   ],
   "source": [
    "plt.figure(figsize=(10,8))\n",
    "axes=plt.axes(projection='3d') # create 3d axes\n",
    "axes.scatter3D(features['ENGINESIZE'],features['FUELCONSUMPTION_COMB'],target, label='Actual Data',color='hotpink')\n",
    "\n",
    "axes.plot3D(dummy_ENGINESIZE,dummy_FUELCONSUMPTION_COMB, ypred.ravel(), label='Regression line',color='blue',linewidth=2)\n",
    "axes.set_xlabel('ENGINESIZE')\n",
    "axes.set_ylabel('FUELCONSUMPTION_COMB')\n",
    "axes.set_zlabel('CO2EMISSIONS')\n",
    "plt.title('ENGINESIZE VS FUELCONSUMPTION_COMB VS CO2EMISSIONS')\n",
    "plt.legend()\n",
    "plt.show()"
   ]
  },
  {
   "cell_type": "code",
   "execution_count": null,
   "metadata": {},
   "outputs": [],
   "source": [
    "data.columns"
   ]
  },
  {
   "cell_type": "code",
   "execution_count": null,
   "metadata": {},
   "outputs": [],
   "source": [
    "data.describe().T"
   ]
  }
 ],
 "metadata": {
  "interpreter": {
   "hash": "369f2c481f4da34e4445cda3fffd2e751bd1c4d706f27375911949ba6bb62e1c"
  },
  "kernelspec": {
   "display_name": "Python 3.10.1 64-bit",
   "language": "python",
   "name": "python3"
  },
  "language_info": {
   "codemirror_mode": {
    "name": "ipython",
    "version": 3
   },
   "file_extension": ".py",
   "mimetype": "text/x-python",
   "name": "python",
   "nbconvert_exporter": "python",
   "pygments_lexer": "ipython3",
   "version": "3.10.1"
  }
 },
 "nbformat": 4,
 "nbformat_minor": 2
}
