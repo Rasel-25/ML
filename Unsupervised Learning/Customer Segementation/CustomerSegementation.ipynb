{
 "cells": [
  {
   "cell_type": "code",
   "execution_count": null,
   "metadata": {},
   "outputs": [],
   "source": [
    "import numpy as np\n",
    "import pandas as pd \n",
    "import seaborn as sns\n",
    "import matplotlib.pyplot as plt\n",
    "%matplotlib inline \n",
    "\n",
    "# remove warning\n",
    "import warnings\n",
    "warnings.filterwarnings(action='ignore')\n",
    "\n",
    "np.random.seed(42) # random_state is globally imported "
   ]
  },
  {
   "cell_type": "markdown",
   "metadata": {},
   "source": [
    "    | Note: \n",
    "Train and test are absent in unsupervised ML. train and test are possible when we know the target value or output.\n",
    "\n",
    "In Unsupervised ML the model is evaluated, how much effective or meaningful  the model is"
   ]
  },
  {
   "cell_type": "markdown",
   "metadata": {},
   "source": [
    "# Step-1: Data gathering"
   ]
  },
  {
   "cell_type": "code",
   "execution_count": null,
   "metadata": {},
   "outputs": [],
   "source": [
    "data=pd.read_csv('Data/Mall_Customers.csv',index_col='CustomerID')\n",
    "df=data.copy()\n",
    "df.head()"
   ]
  },
  {
   "cell_type": "markdown",
   "metadata": {},
   "source": [
    "# Step-2:  Data Preprocessing"
   ]
  },
  {
   "cell_type": "code",
   "execution_count": null,
   "metadata": {},
   "outputs": [],
   "source": [
    "df.isnull().sum()"
   ]
  },
  {
   "cell_type": "code",
   "execution_count": null,
   "metadata": {},
   "outputs": [],
   "source": [
    "df.nunique().sort_values(ascending=False)"
   ]
  },
  {
   "cell_type": "code",
   "execution_count": null,
   "metadata": {},
   "outputs": [],
   "source": [
    "from sklearn.preprocessing import LabelEncoder\n",
    "encoder=LabelEncoder()\n",
    "\n",
    "df.Gender=encoder.fit_transform(df.Gender)\n",
    "#encoder.inverse_transform(df.Gender.values) # inverse transformation of Gender values type\n",
    "df.head()"
   ]
  },
  {
   "cell_type": "code",
   "execution_count": null,
   "metadata": {},
   "outputs": [],
   "source": [
    "# OR\n",
    "# df.Gender=df.Gender.astype('category').cat.codes # converted Gender column object to category type"
   ]
  },
  {
   "cell_type": "code",
   "execution_count": null,
   "metadata": {},
   "outputs": [],
   "source": [
    "df.info()"
   ]
  },
  {
   "cell_type": "markdown",
   "metadata": {},
   "source": [
    "# Step-3: EDA"
   ]
  },
  {
   "cell_type": "code",
   "execution_count": null,
   "metadata": {},
   "outputs": [],
   "source": [
    "gender=df.Gender.value_counts()\n",
    "gender"
   ]
  },
  {
   "cell_type": "code",
   "execution_count": null,
   "metadata": {},
   "outputs": [],
   "source": [
    "# Checking index\n",
    "gender.index\n",
    "encoder.inverse_transform(gender.index) # inverse transfrm"
   ]
  },
  {
   "cell_type": "code",
   "execution_count": null,
   "metadata": {},
   "outputs": [],
   "source": [
    "sns.set_style(style='darkgrid')\n",
    "sns.barplot(x=['Fimale','Male'],y=gender.values) # or\n",
    "sns.barplot(x=encoder.inverse_transform(gender.index),y=gender.values)"
   ]
  },
  {
   "cell_type": "code",
   "execution_count": null,
   "metadata": {},
   "outputs": [],
   "source": [
    "plt.figure(figsize=(15,5))\n",
    "plt.subplot(1,3,1)\n",
    "sns.histplot(data=df, x='Age',color='c')\n",
    "\n",
    "plt.subplot(1,3,2)\n",
    "sns.histplot(data=df,x='Annual Income (k$)',color='m' )\n",
    "\n",
    "plt.subplot(1,3,3)\n",
    "sns.histplot(data=df, x='Spending Score (1-100)', color='green')"
   ]
  },
  {
   "cell_type": "code",
   "execution_count": null,
   "metadata": {},
   "outputs": [],
   "source": [
    "sns.pairplot(df)"
   ]
  },
  {
   "cell_type": "markdown",
   "metadata": {},
   "source": [
    "    | Scaling"
   ]
  },
  {
   "cell_type": "code",
   "execution_count": null,
   "metadata": {},
   "outputs": [],
   "source": [
    "from sklearn.preprocessing import StandardScaler\n",
    "scaler=StandardScaler()"
   ]
  },
  {
   "cell_type": "code",
   "execution_count": null,
   "metadata": {},
   "outputs": [],
   "source": [
    "scaled_data=scaler.fit_transform(df.drop(columns=['Gender',]))\n",
    "scaled_data"
   ]
  },
  {
   "cell_type": "code",
   "execution_count": null,
   "metadata": {},
   "outputs": [],
   "source": [
    "df[['Age', 'Annual Income (k$)', 'Spending Score (1-100)']]=scaled_data\n",
    "df"
   ]
  },
  {
   "cell_type": "markdown",
   "metadata": {},
   "source": [
    "# Step-4: Clustering"
   ]
  },
  {
   "cell_type": "markdown",
   "metadata": {},
   "source": [
    "# <font color ='blue'> KMeans Clustering  </font>"
   ]
  },
  {
   "cell_type": "code",
   "execution_count": null,
   "metadata": {},
   "outputs": [],
   "source": [
    "from sklearn.cluster import KMeans\n",
    "cluster=KMeans()"
   ]
  },
  {
   "cell_type": "code",
   "execution_count": null,
   "metadata": {},
   "outputs": [],
   "source": [
    "cluster.fit(df[['Annual Income (k$)', 'Spending Score (1-100)']]) # fitted/train the model"
   ]
  },
  {
   "cell_type": "code",
   "execution_count": null,
   "metadata": {},
   "outputs": [],
   "source": [
    "cluster.cluster_centers_  # getting the center postion of each cluster of Annual Income (k$) and Spending Score (1-100) "
   ]
  },
  {
   "cell_type": "code",
   "execution_count": null,
   "metadata": {},
   "outputs": [],
   "source": [
    "cluster.get_params() # return number of parameter"
   ]
  },
  {
   "cell_type": "code",
   "execution_count": null,
   "metadata": {},
   "outputs": [],
   "source": [
    "cluster.n_clusters # return number of cluster"
   ]
  },
  {
   "cell_type": "code",
   "execution_count": null,
   "metadata": {},
   "outputs": [],
   "source": [
    "cluster.inertia_ # it  is the inner varience inside each cluster, we have to minimise this value\n",
    "# minimum inertia value refers that the cluster is more better than previous"
   ]
  },
  {
   "cell_type": "markdown",
   "metadata": {},
   "source": [
    "    | Finding K and Elbow method"
   ]
  },
  {
   "cell_type": "code",
   "execution_count": null,
   "metadata": {},
   "outputs": [],
   "source": [
    "\n",
    "inertia=np.array([[0,0]]) # first one refers number of K and other one refers the value of inertiafor that k \n",
    "for k in range(2,11):\n",
    "    kcluster=KMeans(n_clusters=k)\n",
    "    kcluster.fit(df[['Annual Income (k$)', 'Spending Score (1-100)']])\n",
    "    inertia=np.append(inertia,[[k,kcluster.inertia_]],axis=0)\n"
   ]
  },
  {
   "cell_type": "code",
   "execution_count": null,
   "metadata": {},
   "outputs": [],
   "source": [
    "inertia"
   ]
  },
  {
   "cell_type": "code",
   "execution_count": null,
   "metadata": {},
   "outputs": [],
   "source": [
    "sns.lineplot(x=inertia[1:,0],y=inertia[1:,1])"
   ]
  },
  {
   "cell_type": "markdown",
   "metadata": {},
   "source": [
    "Here, Five (5) refers the elbow point, so five is the best number of cluster value"
   ]
  },
  {
   "cell_type": "markdown",
   "metadata": {},
   "source": [
    "# Step-5: Visualizing Cluster"
   ]
  },
  {
   "cell_type": "code",
   "execution_count": null,
   "metadata": {},
   "outputs": [],
   "source": [
    "# again train the model using K=5\n",
    "cluster=KMeans(n_clusters=5) \n",
    "cluster.fit(df[['Annual Income (k$)', 'Spending Score (1-100)']])"
   ]
  },
  {
   "cell_type": "code",
   "execution_count": null,
   "metadata": {},
   "outputs": [],
   "source": [
    "predicted_value=cluster.predict(df[['Annual Income (k$)', 'Spending Score (1-100)']])\n",
    "predicted_value # predicted value of each custermer"
   ]
  },
  {
   "cell_type": "code",
   "execution_count": null,
   "metadata": {},
   "outputs": [],
   "source": [
    "data['Cluster']=predicted_value # predicter values asign to the dataframe\n",
    "data.head()"
   ]
  },
  {
   "cell_type": "code",
   "execution_count": null,
   "metadata": {},
   "outputs": [],
   "source": [
    "df.columns"
   ]
  },
  {
   "cell_type": "code",
   "execution_count": null,
   "metadata": {},
   "outputs": [],
   "source": [
    "plt.figure(figsize=(10,10)) # drowing Scatterplot for each cluster\n",
    "sns.scatterplot(data=data, x='Annual Income (k$)',y='Spending Score (1-100)',hue='Cluster' )"
   ]
  },
  {
   "cell_type": "markdown",
   "metadata": {},
   "source": [
    "    | Validation "
   ]
  },
  {
   "cell_type": "code",
   "execution_count": null,
   "metadata": {},
   "outputs": [],
   "source": [
    "from sklearn.metrics import silhouette_score"
   ]
  },
  {
   "cell_type": "code",
   "execution_count": null,
   "metadata": {},
   "outputs": [],
   "source": [
    "# measuring cluster accuracy which range (-1, 1). so negative score means bad clustering\n",
    "silhouette_score(data[['Annual Income (k$)', 'Spending Score (1-100)']],data['Cluster'])"
   ]
  },
  {
   "cell_type": "markdown",
   "metadata": {},
   "source": [
    "# <font color ='blue'> Agglomerative </font>"
   ]
  },
  {
   "cell_type": "markdown",
   "metadata": {},
   "source": [
    "    | Agglomerative Clustering.\n",
    "Recursively merges pair of clusters of sample data; uses linkage distance.\n",
    "\n",
    "Parameters\n",
    "    | n_clusters : int or None, default=2\n",
    "The number of clusters to find. It must be None if distance_threshold is not None.\n",
    "\n",
    "    | affinity : str or callable, default='euclidean' ( distance calculation)\n",
    "Metric used to compute the linkage. Can be \"euclidean\", \"l1\", \"l2\", \"manhattan\", \"cosine\", or \"precomputed\". If linkage is \"ward\", only \"euclidean\" is accepted. If \"precomputed\", a distance matrix (instead of a similarity matrix) is needed as input for the fit method.\n",
    "\n",
    "    | compute_full_tree : 'auto' or bool, default='auto' (print the tree bottom to up)\n",
    "Stop early the construction of the tree at n_clusters. This is useful to decrease computation time if the number of clusters is not small compared to the number of samples. This option is useful only when specifying a connectivity matrix. Note also that when varying the number of clusters and using caching, it may be advantageous to compute the full tree. \n",
    "\n",
    "    | linkage : {'ward', 'complete', 'average', 'single'}, default='ward'\n",
    "\n",
    "(whether distane between two cluster remain little, ward merge their) \n",
    "\n",
    "Which linkage criterion to use. The linkage criterion determines which distance to use between sets of observation. The algorithm will merge the pairs of cluster that minimize this criterion.\n",
    "\n",
    "1. 'ward' minimizes the variance of the clusters being merged.\n",
    "2. 'average' uses the average of the distances of each observation of the two sets.\n",
    "3. 'complete' or 'maximum' linkage uses the maximum distances between all observations of the two sets.\n",
    "4. 'single' uses the minimum of the distances between all observations of the two sets.\n",
    "\n",
    "\n",
    "\n",
    "\n"
   ]
  },
  {
   "cell_type": "code",
   "execution_count": null,
   "metadata": {},
   "outputs": [],
   "source": [
    "from sklearn.cluster import AgglomerativeClustering\n",
    "from sklearn.metrics import silhouette_samples # return information for each sample"
   ]
  },
  {
   "cell_type": "code",
   "execution_count": null,
   "metadata": {},
   "outputs": [],
   "source": [
    "agg=AgglomerativeClustering()\n",
    "agg.fit(df[['Annual Income (k$)', 'Spending Score (1-100)']])"
   ]
  },
  {
   "cell_type": "code",
   "execution_count": null,
   "metadata": {},
   "outputs": [],
   "source": [
    "predicted_value=agg.fit_predict(df[['Annual Income (k$)', 'Spending Score (1-100)']])\n",
    "predicted_value"
   ]
  },
  {
   "cell_type": "code",
   "execution_count": null,
   "metadata": {},
   "outputs": [],
   "source": [
    "df['cluster'] =predicted_value\n",
    "df.head()"
   ]
  },
  {
   "cell_type": "code",
   "execution_count": null,
   "metadata": {},
   "outputs": [],
   "source": [
    "# accuracy score\n",
    "silhouette_score(df[['Annual Income (k$)', 'Spending Score (1-100)']],df['cluster'])"
   ]
  },
  {
   "cell_type": "code",
   "execution_count": null,
   "metadata": {},
   "outputs": [],
   "source": [
    "# Return sample score of all data points individually.\n",
    "ssample=silhouette_samples(df[['Annual Income (k$)', 'Spending Score (1-100)']],df['cluster'])\n",
    "ssample"
   ]
  },
  {
   "cell_type": "code",
   "execution_count": null,
   "metadata": {},
   "outputs": [],
   "source": [
    "# checking ssample & sscore using user define number of clusters\n",
    "for k in range(2,9):\n",
    "    agg=AgglomerativeClustering(n_clusters=k)\n",
    "    df['cluster']=agg.fit_predict(df[['Annual Income (k$)', 'Spending Score (1-100)']])\n",
    "    sscore=silhouette_score(df[['Annual Income (k$)', 'Spending Score (1-100)']],df['cluster'])\n",
    "    ssample=silhouette_samples(df[['Annual Income (k$)', 'Spending Score (1-100)']],df['cluster'])\n",
    "    print(sscore)\n",
    "    print(ssample) # Return sample score of all data points individually.\n",
    "    break # sample score value negative means that data point remain wrong cluster"
   ]
  },
  {
   "cell_type": "markdown",
   "metadata": {},
   "source": [
    "The matplotlib.pyplot.fill_between() is used to fill area between two horizontal curves. Two points (x, y1) and (x, y2) define the curves. this creates one or more polygons describing the filled areas. The ‘where’ parameter can be used to selectively fill some areas.\n",
    "\n",
    "1. x: It is array of length N. These are the y coordinates of the nodes that define the curves.\n",
    "2. y1:It is an array of length N or a scalar. This represents the x coordinates of the nodes that define the first curve.\n",
    "3. y2: It is an array of length N and is optional in nature. Its default value is 0. This represents the x coordinates of the nodes that define the second curve.\n"
   ]
  },
  {
   "cell_type": "markdown",
   "metadata": {},
   "source": [
    "    | parameters evaluation"
   ]
  },
  {
   "cell_type": "code",
   "execution_count": null,
   "metadata": {},
   "outputs": [],
   "source": [
    "# evaluating model using by defoult cluster\n",
    "ylow =10\n",
    "for cluster in range(agg.n_clusters):\n",
    "    cluster_samples = ssample[df['cluster'] == cluster]\n",
    "    cluster_samples.sort()\n",
    "    yup =  ylow+ cluster_samples.shape[0]\n",
    "    plt.fill_betweenx(np.arange(ylow, yup),0, cluster_samples) # np.arange(ylow, yup refers value of y and cluster_samples refers value of x\n",
    "    ylow = yup+10\n",
    "plt.show()"
   ]
  },
  {
   "cell_type": "code",
   "execution_count": null,
   "metadata": {},
   "outputs": [],
   "source": [
    "# evaluating model using by user define cluster\n",
    "for k in range(2,9):\n",
    "    agg=AgglomerativeClustering(n_clusters=k)\n",
    "    df['cluster']=agg.fit_predict(df[['Annual Income (k$)', 'Spending Score (1-100)']])\n",
    "    sscore=silhouette_score(df[['Annual Income (k$)', 'Spending Score (1-100)']],df['cluster'])\n",
    "    ssample=silhouette_samples(df[['Annual Income (k$)', 'Spending Score (1-100)']],df['cluster'])\n",
    "    #print(sscore)\n",
    "    #print(ssample) # Return sample score of all data points individually.\n",
    "    \n",
    "    ylow =10\n",
    "    for cluster in range(agg.n_clusters):\n",
    "        cluster_samples = ssample[df['cluster'] == cluster]\n",
    "        cluster_samples.sort()\n",
    "        yup =  ylow+ cluster_samples.shape[0]\n",
    "        plt.fill_betweenx(np.arange(ylow, yup),0, cluster_samples) # np.arange(ylow, yup refers value of y and cluster_samples refers value of x\n",
    "        ylow = yup+10\n",
    "    print(f'n_clusters: {k} & sscore: {sscore}')\n",
    "    plt.show()\n"
   ]
  },
  {
   "cell_type": "code",
   "execution_count": null,
   "metadata": {},
   "outputs": [],
   "source": [
    "# combinations, permutations\n",
    "from itertools import combinations, permutations\n",
    "ks = list(range(2, 9))\n",
    "linkage = ('ward', 'single', 'complete','average')\n",
    "list(combinations(ks, 2))"
   ]
  },
  {
   "cell_type": "code",
   "execution_count": null,
   "metadata": {},
   "outputs": [],
   "source": [
    "# # evaluating model parameter  using linkage and user define cluster\n",
    "for k in ks:\n",
    "    for link in linkage:\n",
    "        agg = AgglomerativeClustering(n_clusters=k, linkage=link)\n",
    "        df['Cluster'] = agg.fit_predict(df[['Annual Income (k$)', 'Spending Score (1-100)']])\n",
    "        sscore = silhouette_score(df[['Annual Income (k$)', 'Spending Score (1-100)']], df['Cluster'])\n",
    "        ssample = silhouette_samples(df[['Annual Income (k$)', 'Spending Score (1-100)']], df['Cluster'])\n",
    "        ylow = 10\n",
    "        for cluster in range(agg.n_clusters):\n",
    "            cluster_samples = ssample[df['Cluster'] == cluster]\n",
    "            cluster_samples.sort()\n",
    "            yup = ylow + cluster_samples.shape[0]\n",
    "            plt.fill_betweenx(np.arange(ylow, yup), 0, cluster_samples)\n",
    "            ylow = yup + 10\n",
    "        plt.title(f'n_cluster: {k} Linkage: {link} Score: {sscore} ')\n",
    "        plt.show()"
   ]
  },
  {
   "cell_type": "code",
   "execution_count": null,
   "metadata": {},
   "outputs": [],
   "source": [
    "# evaluating best linkage and according to evaluated cluster=5\n",
    "n_clusters=5\n",
    "for link in linkage:\n",
    "    agg = AgglomerativeClustering(n_clusters, linkage=link)\n",
    "    df['Cluster'] = agg.fit_predict(df[['Annual Income (k$)', 'Spending Score (1-100)']])\n",
    "    sscore = silhouette_score(df[['Annual Income (k$)', 'Spending Score (1-100)']], df['Cluster'])\n",
    "    ssample = silhouette_samples(df[['Annual Income (k$)', 'Spending Score (1-100)']], df['Cluster'])\n",
    "    ylow = 10\n",
    "    for cluster in range(agg.n_clusters):\n",
    "        cluster_samples = ssample[df['Cluster'] == cluster]\n",
    "        cluster_samples.sort()\n",
    "        yup = ylow + cluster_samples.shape[0]\n",
    "        plt.fill_betweenx(np.arange(ylow, yup), 0, cluster_samples)\n",
    "        ylow = yup + 10\n",
    "    plt.title(f'n_cluster: {n_clusters} Linkage: {link} Score: {sscore} ')\n",
    "    plt.show()"
   ]
  },
  {
   "cell_type": "markdown",
   "metadata": {},
   "source": [
    "  # <font color ='blue'> DBSCAN </font> "
   ]
  },
  {
   "cell_type": "markdown",
   "metadata": {},
   "source": [
    "DBSCAN - Density-Based Spatial Clustering of Applications with Noise. Finds core samples of high density and expands clusters from them. Good for data which contains clusters of similar density.\n",
    "\n",
    "    | eps : float, default=0.5\n",
    "The maximum distance between two samples for one to be considered as in the neighborhood of the other. This is not a maximum bound on the distances of points within a cluster. This is the most important DBSCAN parameter to choose appropriately for your data set and distance function.\n",
    "\n",
    "    | min_samples : int, default=5\n",
    "The number of samples (or total weight) in a neighborhood for a point to be considered as a core point. This includes the point itself.\n",
    "\n",
    "    | metric : str, or callable, default='euclidean'\n",
    "The metric to use when calculating distance between instances in a feature array. If metric is a string or callable, it must be one of the options allowed by :func:`sklearn.metrics.pairwise_distances` for its metric parameter."
   ]
  },
  {
   "cell_type": "code",
   "execution_count": 80,
   "metadata": {},
   "outputs": [],
   "source": [
    "from sklearn.cluster import DBSCAN\n",
    "dbscan = DBSCAN()"
   ]
  },
  {
   "cell_type": "markdown",
   "metadata": {},
   "source": [
    "    | Note: \n",
    "We cannot define the number of cluster in this algorithm\n",
    "we can use silhouette_score for all algorithm"
   ]
  },
  {
   "cell_type": "code",
   "execution_count": 83,
   "metadata": {},
   "outputs": [],
   "source": [
    "\n",
    "df['cluster'] = dbscan.fit_predict(df[['Annual Income (k$)', 'Spending Score (1-100)']])"
   ]
  },
  {
   "cell_type": "code",
   "execution_count": 84,
   "metadata": {},
   "outputs": [
    {
     "data": {
      "text/plain": [
       "CustomerID\n",
       "1      0\n",
       "2      0\n",
       "3      0\n",
       "4      0\n",
       "5      0\n",
       "      ..\n",
       "196   -1\n",
       "197   -1\n",
       "198   -1\n",
       "199   -1\n",
       "200   -1\n",
       "Name: cluster, Length: 200, dtype: int64"
      ]
     },
     "execution_count": 84,
     "metadata": {},
     "output_type": "execute_result"
    }
   ],
   "source": [
    "df.cluster # here -1 refers noise points"
   ]
  },
  {
   "cell_type": "code",
   "execution_count": 86,
   "metadata": {},
   "outputs": [
    {
     "data": {
      "text/plain": [
       " 0    157\n",
       " 1     35\n",
       "-1      8\n",
       "Name: cluster, dtype: int64"
      ]
     },
     "execution_count": 86,
     "metadata": {},
     "output_type": "execute_result"
    }
   ],
   "source": [
    "df.cluster.value_counts() # here two clusters have been occured "
   ]
  },
  {
   "cell_type": "code",
   "execution_count": 87,
   "metadata": {},
   "outputs": [
    {
     "data": {
      "image/png": "[encoded data removed]",
      "text/plain": [
       "<Figure size 432x288 with 1 Axes>"
      ]
     },
     "metadata": {},
     "output_type": "display_data"
    },
    {
     "data": {
      "image/png": "[encoded data removed]",
      "text/plain": [
       "<Figure size 432x288 with 1 Axes>"
      ]
     },
     "metadata": {},
     "output_type": "display_data"
    },
    {
     "data": {
      "image/png": "[encoded data removed]",
      "text/plain": [
       "<Figure size 432x288 with 1 Axes>"
      ]
     },
     "metadata": {},
     "output_type": "display_data"
    },
    {
     "data": {
      "image/png": "[encoded data removed]",
      "text/plain": [
       "<Figure size 432x288 with 1 Axes>"
      ]
     },
     "metadata": {},
     "output_type": "display_data"
    },
    {
     "data": {
      "image/png": "[encoded data removed]",
      "text/plain": [
       "<Figure size 432x288 with 1 Axes>"
      ]
     },
     "metadata": {},
     "output_type": "display_data"
    },
    {
     "data": {
      "image/png": "[encoded data removed]",
      "text/plain": [
       "<Figure size 432x288 with 1 Axes>"
      ]
     },
     "metadata": {},
     "output_type": "display_data"
    },
    {
     "data": {
      "image/png": "[encoded data removed]",
      "text/plain": [
       "<Figure size 432x288 with 1 Axes>"
      ]
     },
     "metadata": {},
     "output_type": "display_data"
    },
    {
     "data": {
      "image/png": "[encoded data removed]",
      "text/plain": [
       "<Figure size 432x288 with 1 Axes>"
      ]
     },
     "metadata": {},
     "output_type": "display_data"
    }
   ],
   "source": [
    "eps = np.linspace(0.1, 1.0, 12)\n",
    "for e in eps:\n",
    "    dbscan = DBSCAN(eps=e)\n",
    "    df['Cluster'] = dbscan.fit_predict(df[['Annual Income (k$)', 'Spending Score (1-100)']])\n",
    "    no_clusters = len(set(dbscan.labels_))\n",
    "    if no_clusters == 1:\n",
    "        continue\n",
    "    sscore = silhouette_score(df[['Annual Income (k$)', 'Spending Score (1-100)']], df['Cluster'])\n",
    "    ssample = silhouette_samples(df[['Annual Income (k$)', 'Spending Score (1-100)']], df['Cluster'])\n",
    "    ylow = 10\n",
    "    for cluster in set(dbscan.labels_):\n",
    "        cluster_samples = ssample[df['Cluster'] == cluster]\n",
    "        cluster_samples.sort()\n",
    "        yup = ylow + cluster_samples.shape[0]\n",
    "        plt.fill_betweenx(np.arange(ylow, yup), 0, cluster_samples)\n",
    "        ylow = yup + 10\n",
    "    plt.title(f'eps:{e} Score: {sscore} ')\n",
    "    plt.show()"
   ]
  },
  {
   "cell_type": "code",
   "execution_count": 88,
   "metadata": {},
   "outputs": [
    {
     "data": {
      "text/plain": [
       "{0}"
      ]
     },
     "execution_count": 88,
     "metadata": {},
     "output_type": "execute_result"
    }
   ],
   "source": [
    "set(dbscan.labels_)"
   ]
  },
  {
   "cell_type": "code",
   "execution_count": null,
   "metadata": {},
   "outputs": [],
   "source": [
    "df.columns"
   ]
  }
 ],
 "metadata": {
  "interpreter": {
   "hash": "369f2c481f4da34e4445cda3fffd2e751bd1c4d706f27375911949ba6bb62e1c"
  },
  "kernelspec": {
   "display_name": "Python 3.10.1 64-bit",
   "language": "python",
   "name": "python3"
  },
  "language_info": {
   "codemirror_mode": {
    "name": "ipython",
    "version": 3
   },
   "file_extension": ".py",
   "mimetype": "text/x-python",
   "name": "python",
   "nbconvert_exporter": "python",
   "pygments_lexer": "ipython3",
   "version": "3.10.1"
  },
  "orig_nbformat": 4
 },
 "nbformat": 4,
 "nbformat_minor": 2
}
